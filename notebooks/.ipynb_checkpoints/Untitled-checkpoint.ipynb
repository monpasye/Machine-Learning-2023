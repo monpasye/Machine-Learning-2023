{
 "cells": [
  {
   "cell_type": "code",
   "execution_count": 1,
   "id": "8fe904c2-42fa-40b5-b130-9bbc411a076e",
   "metadata": {},
   "outputs": [],
   "source": [
    "import pandas as pd\n",
    "import os"
   ]
  },
  {
   "cell_type": "code",
   "execution_count": 3,
   "id": "409cc143-e34b-4166-a00a-27b3083cb9c3",
   "metadata": {},
   "outputs": [],
   "source": [
    "os.chdir('../data')\n",
    "df = pd.read_csv('Dataset1.csv')"
   ]
  }
 ],
 "metadata": {
  "kernelspec": {
   "display_name": "Python 3 (ipykernel)",
   "language": "python",
   "name": "python3"
  },
  "language_info": {
   "codemirror_mode": {
    "name": "ipython",
    "version": 3
   },
   "file_extension": ".py",
   "mimetype": "text/x-python",
   "name": "python",
   "nbconvert_exporter": "python",
   "pygments_lexer": "ipython3",
   "version": "3.12.0"
  }
 },
 "nbformat": 4,
 "nbformat_minor": 5
}
